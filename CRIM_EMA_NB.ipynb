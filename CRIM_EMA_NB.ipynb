{
 "cells": [
  {
   "cell_type": "markdown",
   "metadata": {},
   "source": [
    "# Various Routines to Harvest CRIM Metadata from Production Server"
   ]
  },
  {
   "cell_type": "markdown",
   "metadata": {},
   "source": [
    "### Load the data from CRIM"
   ]
  },
  {
   "cell_type": "code",
   "execution_count": 1,
   "metadata": {},
   "outputs": [],
   "source": [
    "import requests\n",
    "import pandas as pd\n",
    "import json\n",
    "from pandas.io.json import json_normalize\n",
    "import os.path"
   ]
  },
  {
   "cell_type": "code",
   "execution_count": 2,
   "metadata": {},
   "outputs": [],
   "source": [
    "# FOR PRODUCTION DJANGO\n",
    "obs_data = requests.get('https://crimproject.org/data/observations/').json()"
   ]
  },
  {
   "cell_type": "markdown",
   "metadata": {},
   "source": [
    "### One Observation"
   ]
  },
  {
   "cell_type": "code",
   "execution_count": 49,
   "metadata": {},
   "outputs": [
    {
     "data": {
      "text/plain": [
       "{'url': 'https://crimproject.org/data/observations/2/',\n",
       " 'id': 2,\n",
       " 'observer': {'url': 'https://crimproject.org/data/people/CRIM_Person_1012/',\n",
       "  'name': 'Ian Lorenz',\n",
       "  'id': 349},\n",
       " 'piece': {'url': 'https://crimproject.org/data/pieces/CRIM_Mass_0009_3/',\n",
       "  'piece_id': 'CRIM_Mass_0009_3',\n",
       "  'full_title': 'Missa Tota pulchra es: Credo',\n",
       "  'mass': 'CRIM_Mass_0009'},\n",
       " 'ema': '1-6/1,1,1+3,1+3,3,3/@1-4,@1-3,@1-3+@1-4,@1-3+@1-3,@1-3,@1',\n",
       " 'musical_type': 'fuga',\n",
       " 'details': {'voices': [1, 3],\n",
       "  'inverted': False,\n",
       "  'periodic': False,\n",
       "  'regularity': None,\n",
       "  'retrograde': False,\n",
       "  'sequential': False,\n",
       "  'voice names': ['[Tenor 1]', '[Tenor 3]'],\n",
       "  'time intervals': 'B2',\n",
       "  'entry intervals': '4-',\n",
       "  'voice names reg': ['Tenor 1', 'Tenor 3']},\n",
       " 'definition': {'url': 'https://crimproject.org/data/definition/15/',\n",
       "  'id': 15,\n",
       "  'observation_definition': [{'name': 'cantus firmus',\n",
       "    'subtypes': [{'form': 'text', 'name': 'voice', 'validation': '\\\\d'},\n",
       "     {'form': 'radio',\n",
       "      'name': 'features',\n",
       "      'default': 'both pitches and durations',\n",
       "      'options': ['both pitches and durations',\n",
       "       'pitches only',\n",
       "       'durations only']}]},\n",
       "   {'name': 'soggetto',\n",
       "    'subtypes': [{'form': 'text', 'name': 'voice', 'validation': '\\\\d'},\n",
       "     {'form': 'radio',\n",
       "      'name': 'features',\n",
       "      'default': 'both pitches and durations',\n",
       "      'options': ['both pitches and durations',\n",
       "       'pitches only',\n",
       "       'durations only']},\n",
       "     {'form': 'boolean', 'name': 'ostinato'},\n",
       "     {'form': 'boolean', 'name': 'periodic'}]},\n",
       "   {'name': 'counter soggetto',\n",
       "    'subtypes': [{'form': 'text', 'name': 'voice', 'validation': '\\\\d'},\n",
       "     {'form': 'radio',\n",
       "      'name': 'features',\n",
       "      'default': 'both pitches and durations',\n",
       "      'options': ['both pitches and durations',\n",
       "       'pitches only',\n",
       "       'durations only']},\n",
       "     {'form': 'boolean', 'name': 'ostinato'},\n",
       "     {'form': 'boolean', 'name': 'periodic'}]},\n",
       "   {'name': 'contrapuntal duo',\n",
       "    'subtypes': [{'form': 'text', 'name': 'voices', 'validation': '\\\\d,\\\\d'}]},\n",
       "   {'name': 'fuga',\n",
       "    'subtypes': [{'form': 'text',\n",
       "      'name': 'voices',\n",
       "      'validation': '\\\\d(,\\\\d)+'},\n",
       "     {'form': 'text',\n",
       "      'name': 'entry intervals',\n",
       "      'validation': '(\\\\d{1,2}[\\\\+-])+'},\n",
       "     {'form': 'text',\n",
       "      'name': 'time intervals',\n",
       "      'validation': '[LBSM]\\\\d{1,2}(\\\\/\\\\d{1,2})*'},\n",
       "     {'form': 'radio',\n",
       "      'name': 'regularity',\n",
       "      'options': ['strict', 'flexed', 'flexed tonal'],\n",
       "      'required': True},\n",
       "     {'form': 'boolean', 'name': 'inverted'},\n",
       "     {'form': 'boolean', 'name': 'periodic'},\n",
       "     {'form': 'boolean', 'name': 'retrograde'},\n",
       "     {'form': 'boolean', 'name': 'sequential'}]},\n",
       "   {'name': 'imitative duo',\n",
       "    'subtypes': [{'form': 'text',\n",
       "      'name': 'voices',\n",
       "      'validation': '\\\\d,\\\\d(,\\\\d,\\\\d)*'},\n",
       "     {'form': 'text',\n",
       "      'name': 'entry intervals',\n",
       "      'validation': '(\\\\d{1,2}[\\\\+-])+'},\n",
       "     {'form': 'text',\n",
       "      'name': 'time intervals',\n",
       "      'validation': '[LBSM]\\\\d{1,2}(\\\\/\\\\d{1,2})*'},\n",
       "     {'form': 'radio',\n",
       "      'name': 'regularity',\n",
       "      'options': ['strict', 'flexed', 'flexed tonal'],\n",
       "      'required': True},\n",
       "     {'form': 'boolean', 'name': 'invertible counterpoint'},\n",
       "     {'form': 'boolean', 'name': 'added entries'}]},\n",
       "   {'name': 'periodic entry',\n",
       "    'subtypes': [{'form': 'text',\n",
       "      'name': 'voices',\n",
       "      'validation': '\\\\d,\\\\d(,\\\\d)+'},\n",
       "     {'form': 'text',\n",
       "      'name': 'entry intervals',\n",
       "      'validation': '(\\\\d{1,2}[\\\\+-])+'},\n",
       "     {'form': 'text',\n",
       "      'name': 'time intervals',\n",
       "      'validation': '[LBSM]\\\\d{1,2}(\\\\/\\\\d{1,2})*'},\n",
       "     {'form': 'radio',\n",
       "      'name': 'regularity',\n",
       "      'options': ['strict', 'flexed', 'flexed tonal'],\n",
       "      'required': True},\n",
       "     {'form': 'boolean', 'name': 'sequential'},\n",
       "     {'form': 'boolean', 'name': 'invertible counterpoint'},\n",
       "     {'form': 'boolean', 'name': 'added entries'}]},\n",
       "   {'name': 'non-imitative duo',\n",
       "    'subtypes': [{'form': 'text',\n",
       "      'name': 'voices',\n",
       "      'validation': '\\\\d,\\\\d(,\\\\d,\\\\d)*'},\n",
       "     {'form': 'text',\n",
       "      'name': 'entry intervals',\n",
       "      'validation': '(\\\\d{1,2}[\\\\+-])+'},\n",
       "     {'form': 'text',\n",
       "      'name': 'time intervals',\n",
       "      'validation': '[LBSM]\\\\d{1,2}(\\\\/\\\\d{1,2})*'},\n",
       "     {'form': 'radio',\n",
       "      'name': 'regularity',\n",
       "      'options': ['strict', 'flexed', 'flexed tonal'],\n",
       "      'required': True},\n",
       "     {'form': 'boolean', 'name': 'sequential'},\n",
       "     {'form': 'boolean', 'name': 'invertible counterpoint'},\n",
       "     {'form': 'boolean', 'name': 'added entries'}]},\n",
       "   {'name': 'homorhythm',\n",
       "    'subtypes': [{'form': 'radio',\n",
       "      'name': 'type',\n",
       "      'options': ['simple', 'staggered', 'sequential', 'fauxbourdon'],\n",
       "      'required': True},\n",
       "     {'form': 'text', 'name': 'voices', 'validation': '\\\\d,\\\\d(,\\\\d)+'},\n",
       "     {'form': 'boolean', 'name': 'dialogue'}]},\n",
       "   {'name': 'cadence',\n",
       "    'subtypes': [{'form': 'radio',\n",
       "      'name': 'tone',\n",
       "      'options': ['C', 'D', 'E', 'E-flat', 'F', 'G', 'A', 'B', 'B-flat'],\n",
       "      'required': True},\n",
       "     {'form': 'radio',\n",
       "      'name': 'type',\n",
       "      'options': ['authentic', 'plagal', 'phrygian'],\n",
       "      'required': True},\n",
       "     {'form': 'text', 'name': 'cantizans', 'validation': '\\\\d?'},\n",
       "     {'form': 'text', 'name': 'tenorizans', 'validation': '\\\\d?'},\n",
       "     {'form': 'boolean', 'name': 'irregular cadence'},\n",
       "     {'form': 'checkbox',\n",
       "      'name': 'irregular roles',\n",
       "      'options': ['cantizans', 'altizans', 'tenorizans', 'bassizans']},\n",
       "     {'form': 'boolean', 'name': 'dovetail cadence'},\n",
       "     {'form': 'text', 'name': 'dovetail cadence voice', 'validation': '\\\\d?'},\n",
       "     {'form': 'radio',\n",
       "      'name': 'dovetail position',\n",
       "      'options': ['above', 'between', 'below'],\n",
       "      'required': False}]}]},\n",
       " 'remarks': 'Makes up longer ID',\n",
       " 'created': '2017-06-19T19:22:54-04:00',\n",
       " 'updated': '2022-02-03T18:01:55.833865-05:00',\n",
       " 'curated': True}"
      ]
     },
     "execution_count": 49,
     "metadata": {},
     "output_type": "execute_result"
    }
   ],
   "source": [
    "# This is how the CRIM Django JSON looks for Masses:\n",
    "sample = obs_data[1]\n",
    "sample"
   ]
  },
  {
   "cell_type": "code",
   "execution_count": 61,
   "metadata": {},
   "outputs": [
    {
     "data": {
      "text/plain": [
       "{'obs_id': 2,\n",
       " 'piece_id': 'https://crimproject.org/mei/CRIM_Mass_0009_3.mei',\n",
       " 'ema': '1-6/1,1,1+3,1+3,3,3/@1-4,@1-3,@1-3+@1-4,@1-3+@1-3,@1-3,@1',\n",
       " 'full_ema': 'https://crimproject.org/mei/https://crimproject.org/mei/CRIM_Mass_0009_3.mei/1-6/1,1,1+3,1+3,3,3/@1-4,@1-3,@1-3+@1-4,@1-3+@1-3,@1-3,@1'}"
      ]
     },
     "execution_count": 61,
     "metadata": {},
     "output_type": "execute_result"
    }
   ],
   "source": [
    "# scratch code to build the dictionary of required fields.\n",
    "\n",
    "obs_id = sample['id']\n",
    "mei_file_prefix = \"https://crimproject.org/mei/\"\n",
    "ema = sample['ema']\n",
    "piece_id = mei_file_prefix + sample['piece']['piece_id'] + '.' + \"mei\"\n",
    "full_ema = mei_file_prefix + piece_id + '/' + ema\n",
    "# full_ema\n",
    "ema_dict= {\"obs_id\" : obs_id,\n",
    "           \"piece_id\": piece_id,\n",
    "          \"ema\" : ema,\n",
    "          \"full_ema\" : full_ema}\n",
    "ema_dict"
   ]
  },
  {
   "cell_type": "code",
   "execution_count": 62,
   "metadata": {},
   "outputs": [],
   "source": [
    "# now as a function\n",
    "def get_obs_ema(obs):\n",
    "    mei_file_prefix = \"https://crimproject.org/mei/\"\n",
    "    obs_id = obs['id']\n",
    "    ema = obs['ema']\n",
    "    piece_id = mei_file_prefix + sample['piece']['piece_id'] + '.' + \"mei\"\n",
    "    full_ema = mei_file_prefix + piece_id + '/' + ema\n",
    "    ema_dict= {\"obs_id\" : obs_id,\n",
    "           \"piece_id\": piece_id,\n",
    "          \"ema\" : ema,\n",
    "          \"full_ema\" : full_ema}\n",
    "    obs_ema_list.append(ema_dict)"
   ]
  },
  {
   "cell_type": "code",
   "execution_count": 63,
   "metadata": {},
   "outputs": [],
   "source": [
    "# here we run the function\n",
    "obs_ema_list = []\n",
    "for obs in obs_data:\n",
    "    get_obs_ema(obs)\n"
   ]
  },
  {
   "cell_type": "code",
   "execution_count": 64,
   "metadata": {},
   "outputs": [],
   "source": [
    "# and here save the file locally\n",
    "with open('crim_ema_data.json', 'w') as f:\n",
    "    json.dump(obs_ema_list, f)"
   ]
  },
  {
   "cell_type": "code",
   "execution_count": null,
   "metadata": {},
   "outputs": [],
   "source": []
  }
 ],
 "metadata": {
  "kernelspec": {
   "display_name": "Python 3 (ipykernel)",
   "language": "python",
   "name": "python3"
  },
  "language_info": {
   "codemirror_mode": {
    "name": "ipython",
    "version": 3
   },
   "file_extension": ".py",
   "mimetype": "text/x-python",
   "name": "python",
   "nbconvert_exporter": "python",
   "pygments_lexer": "ipython3",
   "version": "3.10.8"
  }
 },
 "nbformat": 4,
 "nbformat_minor": 2
}
